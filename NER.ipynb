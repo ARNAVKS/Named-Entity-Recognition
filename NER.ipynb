{
  "nbformat": 4,
  "nbformat_minor": 0,
  "metadata": {
    "colab": {
      "provenance": [],
      "authorship_tag": "ABX9TyPr+OVYoGXQpwJB6ubJ0Ly3"
    },
    "kernelspec": {
      "name": "python3",
      "display_name": "Python 3"
    },
    "language_info": {
      "name": "python"
    }
  },
  "cells": [
    {
      "cell_type": "code",
      "execution_count": null,
      "metadata": {
        "id": "QcFnnX4KFqew"
      },
      "outputs": [],
      "source": [
        "import pickle\n",
        "import numpy as np"
      ]
    },
    {
      "cell_type": "code",
      "source": [
        "from tensorflow.keras.models import load_model\n",
        "from tensorflow.keras.preprocessing.sequence import pad_sequences"
      ],
      "metadata": {
        "id": "b484uLZXRLWs"
      },
      "execution_count": null,
      "outputs": []
    },
    {
      "cell_type": "code",
      "source": [
        "sent_tok=pickle.load(open('sent_token.pkl','rb'))\n",
        "pos_tok=pickle.load(open('pos_token.pkl','rb'))\n",
        "ner_tok=pickle.load(open('ner_token.pkl','rb'))"
      ],
      "metadata": {
        "id": "4oHvVyDGRPyy"
      },
      "execution_count": null,
      "outputs": []
    },
    {
      "cell_type": "code",
      "source": [
        "pos_model=load_model('pos_model.keras')\n",
        "tag_model=load_model('tag_model.keras')"
      ],
      "metadata": {
        "id": "UUh9qvrSR5jQ"
      },
      "execution_count": null,
      "outputs": []
    },
    {
      "cell_type": "code",
      "source": [
        "max_len=104"
      ],
      "metadata": {
        "id": "h6N93LqrSr9V"
      },
      "execution_count": null,
      "outputs": []
    },
    {
      "cell_type": "code",
      "source": [
        "def ner(sentence):\n",
        "  sent=sent_tok.texts_to_sequences([sentence])\n",
        "  sent_pad=pad_sequences(sent,maxlen=max_len,padding='post')\n",
        "  pos_pred=pos_model.predict(sent_pad)\n",
        "  pos_prediction=np.argmax(pos_pred,-1)\n",
        "  tag_pred=tag_model.predict(sent_pad)\n",
        "  tag_prediction=np.argmax(tag_pred,-1)\n",
        "  n=0\n",
        "  for i in pos_prediction[0]:\n",
        "    if i!=0:\n",
        "     n=n+1\n",
        "    else:\n",
        "     break\n",
        "  pos_prediction=pos_prediction[:n]\n",
        "  tag_prediction=tag_prediction[:n]\n",
        "  pred_pos=pos_tok.sequences_to_texts(pos_prediction)\n",
        "  pred_ner=ner_tok.sequences_to_texts(tag_prediction)\n",
        "  pred_pos=pred_pos[0]\n",
        "  pred_ner=pred_ner[0]\n",
        "  print(\"Sentence :\",sentence)\n",
        "  print(\"POS :\",pred_pos.split())\n",
        "  print(\"NER :\",pred_ner.split())"
      ],
      "metadata": {
        "id": "jzlVtMPqShfh"
      },
      "execution_count": null,
      "outputs": []
    },
    {
      "cell_type": "code",
      "source": [
        "ner(\"Barack Obama met Russian officials in Geneva .\")"
      ],
      "metadata": {
        "colab": {
          "base_uri": "https://localhost:8080/"
        },
        "id": "2aZdfe3QUmwy",
        "outputId": "2e2c88e5-d392-4436-8a69-66ef2e083d48"
      },
      "execution_count": null,
      "outputs": [
        {
          "output_type": "stream",
          "name": "stdout",
          "text": [
            "\u001b[1m1/1\u001b[0m \u001b[32m━━━━━━━━━━━━━━━━━━━━\u001b[0m\u001b[37m\u001b[0m \u001b[1m0s\u001b[0m 72ms/step\n",
            "\u001b[1m1/1\u001b[0m \u001b[32m━━━━━━━━━━━━━━━━━━━━\u001b[0m\u001b[37m\u001b[0m \u001b[1m0s\u001b[0m 56ms/step\n",
            "Sentence : Barack Obama met Russian officials in Geneva .\n",
            "POS : ['NNP', 'NNP', 'VBD', 'JJ', 'NNS', 'IN', 'NNP', '.']\n",
            "NER : ['B-per', 'B-per', 'O', 'B-gpe', 'O', 'O', 'B-geo', 'O']\n"
          ]
        }
      ]
    },
    {
      "cell_type": "code",
      "source": [
        "ner(\"Apple Inc. released its new iPhone in September 2021 .\")"
      ],
      "metadata": {
        "colab": {
          "base_uri": "https://localhost:8080/"
        },
        "id": "ejTUWhieY8Kh",
        "outputId": "11077188-2454-4d83-867e-661527d42199"
      },
      "execution_count": null,
      "outputs": [
        {
          "output_type": "stream",
          "name": "stdout",
          "text": [
            "\u001b[1m1/1\u001b[0m \u001b[32m━━━━━━━━━━━━━━━━━━━━\u001b[0m\u001b[37m\u001b[0m \u001b[1m0s\u001b[0m 59ms/step\n",
            "\u001b[1m1/1\u001b[0m \u001b[32m━━━━━━━━━━━━━━━━━━━━\u001b[0m\u001b[37m\u001b[0m \u001b[1m0s\u001b[0m 83ms/step\n",
            "Sentence : Apple Inc. released its new iPhone in September 2021 .\n",
            "POS : ['NNP', 'NNP', 'VBD', 'PRP$', 'JJ', 'NN', 'IN', 'NNP', 'NNP', '.']\n",
            "NER : ['B-org', 'I-org', 'O', 'O', 'O', 'O', 'O', 'B-tim', 'I-tim', 'O']\n"
          ]
        }
      ]
    },
    {
      "cell_type": "code",
      "source": [
        "ner(\"Sundar Pichai gave a talk at Stanford University yesterday .\")"
      ],
      "metadata": {
        "colab": {
          "base_uri": "https://localhost:8080/"
        },
        "id": "vSn8U6XTU0ip",
        "outputId": "ef47c94b-e4e0-40bc-c4fc-5854892432c9"
      },
      "execution_count": null,
      "outputs": [
        {
          "output_type": "stream",
          "name": "stdout",
          "text": [
            "\u001b[1m1/1\u001b[0m \u001b[32m━━━━━━━━━━━━━━━━━━━━\u001b[0m\u001b[37m\u001b[0m \u001b[1m0s\u001b[0m 62ms/step\n",
            "\u001b[1m1/1\u001b[0m \u001b[32m━━━━━━━━━━━━━━━━━━━━\u001b[0m\u001b[37m\u001b[0m \u001b[1m0s\u001b[0m 142ms/step\n",
            "Sentence : Sundar Pichai gave a talk at Stanford University yesterday .\n",
            "POS : ['NNP', 'NNP', 'VBD', 'DT', 'NN', 'IN', 'NNP', 'NNP', 'NN', '.']\n",
            "NER : ['B-per', 'O', 'O', 'O', 'O', 'O', 'B-org', 'I-org', 'B-tim', 'O']\n"
          ]
        }
      ]
    },
    {
      "cell_type": "code",
      "source": [
        "ner(\"The United Nations held a meeting in Geneva .\")"
      ],
      "metadata": {
        "colab": {
          "base_uri": "https://localhost:8080/"
        },
        "id": "z8BlONeTVm0a",
        "outputId": "83915aa9-d8f9-4983-b269-24f3ca904798"
      },
      "execution_count": null,
      "outputs": [
        {
          "output_type": "stream",
          "name": "stdout",
          "text": [
            "\u001b[1m1/1\u001b[0m \u001b[32m━━━━━━━━━━━━━━━━━━━━\u001b[0m\u001b[37m\u001b[0m \u001b[1m0s\u001b[0m 58ms/step\n",
            "\u001b[1m1/1\u001b[0m \u001b[32m━━━━━━━━━━━━━━━━━━━━\u001b[0m\u001b[37m\u001b[0m \u001b[1m0s\u001b[0m 103ms/step\n",
            "Sentence : The United Nations held a meeting in Geneva .\n",
            "POS : ['DT', 'NNP', 'NNPS', 'VBD', 'DT', 'NN', 'IN', 'NNP', '.']\n",
            "NER : ['O', 'B-org', 'I-org', 'O', 'O', 'O', 'O', 'B-geo', 'O']\n"
          ]
        }
      ]
    },
    {
      "cell_type": "code",
      "source": [
        "ner(\"Microsoft hired John Doe from New York in 2022 .\")"
      ],
      "metadata": {
        "colab": {
          "base_uri": "https://localhost:8080/"
        },
        "id": "BEf6JqkZYTaB",
        "outputId": "02ca1f32-3903-41a9-8a9d-cf3f37b747ae"
      },
      "execution_count": null,
      "outputs": [
        {
          "output_type": "stream",
          "name": "stdout",
          "text": [
            "\u001b[1m1/1\u001b[0m \u001b[32m━━━━━━━━━━━━━━━━━━━━\u001b[0m\u001b[37m\u001b[0m \u001b[1m0s\u001b[0m 90ms/step\n",
            "\u001b[1m1/1\u001b[0m \u001b[32m━━━━━━━━━━━━━━━━━━━━\u001b[0m\u001b[37m\u001b[0m \u001b[1m0s\u001b[0m 210ms/step\n",
            "Sentence : Microsoft hired John Doe from New York in 2022 .\n",
            "POS : ['NNP', 'VBD', 'NNP', 'NNP', 'IN', 'NNP', 'NNP', 'IN', 'CD', '.']\n",
            "NER : ['B-org', 'O', 'B-per', 'O', 'O', 'B-geo', 'I-geo', 'O', 'B-tim', 'O']\n"
          ]
        }
      ]
    },
    {
      "cell_type": "code",
      "source": [
        "ner(\"John Smith visited Microsoft headquarters last June .\")"
      ],
      "metadata": {
        "colab": {
          "base_uri": "https://localhost:8080/"
        },
        "id": "-rNwUx5ocYmp",
        "outputId": "191f0c99-dff0-4d1e-ffed-367bc6519728"
      },
      "execution_count": null,
      "outputs": [
        {
          "output_type": "stream",
          "name": "stdout",
          "text": [
            "\u001b[1m1/1\u001b[0m \u001b[32m━━━━━━━━━━━━━━━━━━━━\u001b[0m\u001b[37m\u001b[0m \u001b[1m0s\u001b[0m 56ms/step\n",
            "\u001b[1m1/1\u001b[0m \u001b[32m━━━━━━━━━━━━━━━━━━━━\u001b[0m\u001b[37m\u001b[0m \u001b[1m0s\u001b[0m 58ms/step\n",
            "Sentence : John Smith visited Microsoft headquarters last June .\n",
            "POS : ['NNP', 'NNP', 'VBD', 'NNP', 'NN', 'JJ', 'NNP', '.']\n",
            "NER : ['B-per', 'I-per', 'O', 'B-org', 'O', 'O', 'B-tim', 'O']\n"
          ]
        }
      ]
    },
    {
      "cell_type": "code",
      "source": [
        "ner(\"John flew to Paris for the annual summit .\")"
      ],
      "metadata": {
        "colab": {
          "base_uri": "https://localhost:8080/"
        },
        "id": "hmmlBGDJc5Nh",
        "outputId": "fb1723a9-74a5-4541-b15b-605a709a9f99"
      },
      "execution_count": null,
      "outputs": [
        {
          "output_type": "stream",
          "name": "stdout",
          "text": [
            "\u001b[1m1/1\u001b[0m \u001b[32m━━━━━━━━━━━━━━━━━━━━\u001b[0m\u001b[37m\u001b[0m \u001b[1m0s\u001b[0m 60ms/step\n",
            "\u001b[1m1/1\u001b[0m \u001b[32m━━━━━━━━━━━━━━━━━━━━\u001b[0m\u001b[37m\u001b[0m \u001b[1m0s\u001b[0m 109ms/step\n",
            "Sentence : John flew to Paris for the annual summit .\n",
            "POS : ['NNP', 'VBD', 'TO', 'NNP', 'IN', 'DT', 'JJ', 'NN', '.']\n",
            "NER : ['B-per', 'O', 'O', 'B-geo', 'O', 'O', 'O', 'O', 'O']\n"
          ]
        }
      ]
    },
    {
      "cell_type": "code",
      "source": [],
      "metadata": {
        "id": "gv9riVjegMww"
      },
      "execution_count": null,
      "outputs": []
    }
  ]
}