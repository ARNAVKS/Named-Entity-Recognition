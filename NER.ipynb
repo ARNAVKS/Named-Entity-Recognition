{
  "nbformat": 4,
  "nbformat_minor": 0,
  "metadata": {
    "colab": {
      "provenance": [],
      "authorship_tag": "ABX9TyPmwuiDkw1pkXLJ2U0lhZxl"
    },
    "kernelspec": {
      "name": "python3",
      "display_name": "Python 3"
    },
    "language_info": {
      "name": "python"
    }
  },
  "cells": [
    {
      "cell_type": "code",
      "execution_count": 1,
      "metadata": {
        "id": "QcFnnX4KFqew"
      },
      "outputs": [],
      "source": [
        "import pickle\n",
        "import numpy as np"
      ]
    },
    {
      "cell_type": "code",
      "source": [
        "from tensorflow.keras.models import load_model\n",
        "from tensorflow.keras.preprocessing.sequence import pad_sequences"
      ],
      "metadata": {
        "id": "b484uLZXRLWs"
      },
      "execution_count": 2,
      "outputs": []
    },
    {
      "cell_type": "code",
      "source": [
        "sent_tok=pickle.load(open('sent_token.pkl','rb'))\n",
        "pos_tok=pickle.load(open('pos_token.pkl','rb'))\n",
        "ner_tok=pickle.load(open('ner_token.pkl','rb'))"
      ],
      "metadata": {
        "id": "4oHvVyDGRPyy"
      },
      "execution_count": 3,
      "outputs": []
    },
    {
      "cell_type": "code",
      "source": [
        "pos_model=load_model('pos_model.keras')\n",
        "tag_model=load_model('tag_model.keras')"
      ],
      "metadata": {
        "id": "UUh9qvrSR5jQ"
      },
      "execution_count": 4,
      "outputs": []
    },
    {
      "cell_type": "code",
      "source": [
        "max_len=104"
      ],
      "metadata": {
        "id": "h6N93LqrSr9V"
      },
      "execution_count": 5,
      "outputs": []
    },
    {
      "cell_type": "code",
      "source": [
        "def ner(sentence):\n",
        "  sent=sent_tok.texts_to_sequences([sentence])\n",
        "  sent_pad=pad_sequences(sent,maxlen=max_len,padding='post')\n",
        "  pos_pred=pos_model.predict(sent_pad)\n",
        "  pos_prediction=np.argmax(pos_pred,-1)\n",
        "  tag_pred=tag_model.predict(sent_pad)\n",
        "  tag_prediction=np.argmax(tag_pred,-1)\n",
        "  n=0\n",
        "  for i in pos_prediction[0]:\n",
        "    if i!=0:\n",
        "     n=n+1\n",
        "    else:\n",
        "     break\n",
        "  pos_prediction=pos_prediction[:n]\n",
        "  tag_prediction=tag_prediction[:n]\n",
        "  pred_pos=pos_tok.sequences_to_texts(pos_prediction)\n",
        "  pred_ner=ner_tok.sequences_to_texts(tag_prediction)\n",
        "  pred_pos=pred_pos[0]\n",
        "  pred_ner=pred_ner[0]\n",
        "  print(\"Sentence :\",sentence)\n",
        "  print(\"POS :\",pred_pos.split())\n",
        "  print(\"NER :\",pred_ner.split())"
      ],
      "metadata": {
        "id": "jzlVtMPqShfh"
      },
      "execution_count": 6,
      "outputs": []
    },
    {
      "cell_type": "code",
      "source": [
        "ner(\"Barack Obama met Russian officials in Geneva .\")"
      ],
      "metadata": {
        "colab": {
          "base_uri": "https://localhost:8080/"
        },
        "id": "2aZdfe3QUmwy",
        "outputId": "46b52388-d571-4896-cdc9-bdbc3718f875"
      },
      "execution_count": 7,
      "outputs": [
        {
          "output_type": "stream",
          "name": "stdout",
          "text": [
            "\u001b[1m1/1\u001b[0m \u001b[32m━━━━━━━━━━━━━━━━━━━━\u001b[0m\u001b[37m\u001b[0m \u001b[1m1s\u001b[0m 1s/step\n",
            "\u001b[1m1/1\u001b[0m \u001b[32m━━━━━━━━━━━━━━━━━━━━\u001b[0m\u001b[37m\u001b[0m \u001b[1m1s\u001b[0m 1s/step\n",
            "Sentence : Barack Obama met Russian officials in Geneva .\n",
            "POS : ['NNP', 'NNP', 'VBD', 'JJ', 'NNS', 'IN', 'NNP', '.']\n",
            "NER : ['B-per', 'B-per', 'O', 'B-gpe', 'O', 'O', 'B-geo', 'O']\n"
          ]
        }
      ]
    },
    {
      "cell_type": "code",
      "source": [
        "ner(\"Apple Inc. released its new iPhone in September 2021 .\")"
      ],
      "metadata": {
        "colab": {
          "base_uri": "https://localhost:8080/"
        },
        "id": "ejTUWhieY8Kh",
        "outputId": "6ea605fc-5803-446f-bff5-3c6e97cacfc8"
      },
      "execution_count": 8,
      "outputs": [
        {
          "output_type": "stream",
          "name": "stdout",
          "text": [
            "\u001b[1m1/1\u001b[0m \u001b[32m━━━━━━━━━━━━━━━━━━━━\u001b[0m\u001b[37m\u001b[0m \u001b[1m0s\u001b[0m 49ms/step\n",
            "\u001b[1m1/1\u001b[0m \u001b[32m━━━━━━━━━━━━━━━━━━━━\u001b[0m\u001b[37m\u001b[0m \u001b[1m0s\u001b[0m 50ms/step\n",
            "Sentence : Apple Inc. released its new iPhone in September 2021 .\n",
            "POS : ['NNP', 'NNP', 'VBD', 'PRP$', 'JJ', 'NN', 'IN', 'NNP', 'NNP', '.']\n",
            "NER : ['B-org', 'I-org', 'O', 'O', 'O', 'O', 'O', 'B-tim', 'I-tim', 'O']\n"
          ]
        }
      ]
    },
    {
      "cell_type": "code",
      "source": [
        "ner(\"Sundar Pichai gave a talk at Stanford University yesterday .\")"
      ],
      "metadata": {
        "colab": {
          "base_uri": "https://localhost:8080/"
        },
        "id": "vSn8U6XTU0ip",
        "outputId": "e6ee368e-0eed-4119-984d-9ce27193321a"
      },
      "execution_count": 9,
      "outputs": [
        {
          "output_type": "stream",
          "name": "stdout",
          "text": [
            "\u001b[1m1/1\u001b[0m \u001b[32m━━━━━━━━━━━━━━━━━━━━\u001b[0m\u001b[37m\u001b[0m \u001b[1m0s\u001b[0m 46ms/step\n",
            "\u001b[1m1/1\u001b[0m \u001b[32m━━━━━━━━━━━━━━━━━━━━\u001b[0m\u001b[37m\u001b[0m \u001b[1m0s\u001b[0m 49ms/step\n",
            "Sentence : Sundar Pichai gave a talk at Stanford University yesterday .\n",
            "POS : ['NNP', 'NNP', 'VBD', 'DT', 'NN', 'IN', 'NNP', 'NNP', 'NN', '.']\n",
            "NER : ['B-per', 'O', 'O', 'O', 'O', 'O', 'B-org', 'I-org', 'B-tim', 'O']\n"
          ]
        }
      ]
    },
    {
      "cell_type": "code",
      "source": [
        "ner(\"The United Nations held a meeting in Geneva .\")"
      ],
      "metadata": {
        "colab": {
          "base_uri": "https://localhost:8080/"
        },
        "id": "z8BlONeTVm0a",
        "outputId": "617ac171-5332-4516-f7f1-c8f70d482657"
      },
      "execution_count": 10,
      "outputs": [
        {
          "output_type": "stream",
          "name": "stdout",
          "text": [
            "\u001b[1m1/1\u001b[0m \u001b[32m━━━━━━━━━━━━━━━━━━━━\u001b[0m\u001b[37m\u001b[0m \u001b[1m0s\u001b[0m 56ms/step\n",
            "\u001b[1m1/1\u001b[0m \u001b[32m━━━━━━━━━━━━━━━━━━━━\u001b[0m\u001b[37m\u001b[0m \u001b[1m0s\u001b[0m 56ms/step\n",
            "Sentence : The United Nations held a meeting in Geneva .\n",
            "POS : ['DT', 'NNP', 'NNPS', 'VBD', 'DT', 'NN', 'IN', 'NNP', '.']\n",
            "NER : ['O', 'B-org', 'I-org', 'O', 'O', 'O', 'O', 'B-geo', 'O']\n"
          ]
        }
      ]
    },
    {
      "cell_type": "code",
      "source": [
        "ner(\"Microsoft hired John Doe from New York in 2022 .\")"
      ],
      "metadata": {
        "colab": {
          "base_uri": "https://localhost:8080/"
        },
        "id": "BEf6JqkZYTaB",
        "outputId": "21824a42-7468-4dfc-e343-80bbf4fcf0ab"
      },
      "execution_count": 11,
      "outputs": [
        {
          "output_type": "stream",
          "name": "stdout",
          "text": [
            "\u001b[1m1/1\u001b[0m \u001b[32m━━━━━━━━━━━━━━━━━━━━\u001b[0m\u001b[37m\u001b[0m \u001b[1m0s\u001b[0m 56ms/step\n",
            "\u001b[1m1/1\u001b[0m \u001b[32m━━━━━━━━━━━━━━━━━━━━\u001b[0m\u001b[37m\u001b[0m \u001b[1m0s\u001b[0m 51ms/step\n",
            "Sentence : Microsoft hired John Doe from New York in 2022 .\n",
            "POS : ['NNP', 'VBD', 'NNP', 'NNP', 'IN', 'NNP', 'NNP', 'IN', 'CD', '.']\n",
            "NER : ['B-org', 'O', 'B-per', 'O', 'O', 'B-geo', 'I-geo', 'O', 'B-tim', 'O']\n"
          ]
        }
      ]
    },
    {
      "cell_type": "code",
      "source": [
        "ner(\"John Smith visited Microsoft headquarters last June .\")"
      ],
      "metadata": {
        "colab": {
          "base_uri": "https://localhost:8080/"
        },
        "id": "-rNwUx5ocYmp",
        "outputId": "9ddd2d5e-00e4-4fbd-c61f-22bc6e2b783d"
      },
      "execution_count": 12,
      "outputs": [
        {
          "output_type": "stream",
          "name": "stdout",
          "text": [
            "\u001b[1m1/1\u001b[0m \u001b[32m━━━━━━━━━━━━━━━━━━━━\u001b[0m\u001b[37m\u001b[0m \u001b[1m0s\u001b[0m 47ms/step\n",
            "\u001b[1m1/1\u001b[0m \u001b[32m━━━━━━━━━━━━━━━━━━━━\u001b[0m\u001b[37m\u001b[0m \u001b[1m0s\u001b[0m 47ms/step\n",
            "Sentence : John Smith visited Microsoft headquarters last June .\n",
            "POS : ['NNP', 'NNP', 'VBD', 'NNP', 'NN', 'JJ', 'NNP', '.']\n",
            "NER : ['B-per', 'I-per', 'O', 'B-org', 'O', 'O', 'B-tim', 'O']\n"
          ]
        }
      ]
    },
    {
      "cell_type": "code",
      "source": [
        "ner(\"John flew to Paris for the annual summit .\")"
      ],
      "metadata": {
        "colab": {
          "base_uri": "https://localhost:8080/"
        },
        "id": "hmmlBGDJc5Nh",
        "outputId": "ce79c6da-c678-47b4-bd87-a82d6465fa6a"
      },
      "execution_count": 13,
      "outputs": [
        {
          "output_type": "stream",
          "name": "stdout",
          "text": [
            "\u001b[1m1/1\u001b[0m \u001b[32m━━━━━━━━━━━━━━━━━━━━\u001b[0m\u001b[37m\u001b[0m \u001b[1m0s\u001b[0m 49ms/step\n",
            "\u001b[1m1/1\u001b[0m \u001b[32m━━━━━━━━━━━━━━━━━━━━\u001b[0m\u001b[37m\u001b[0m \u001b[1m0s\u001b[0m 57ms/step\n",
            "Sentence : John flew to Paris for the annual summit .\n",
            "POS : ['NNP', 'VBD', 'TO', 'NNP', 'IN', 'DT', 'JJ', 'NN', '.']\n",
            "NER : ['B-per', 'O', 'O', 'B-geo', 'O', 'O', 'O', 'O', 'O']\n"
          ]
        }
      ]
    },
    {
      "cell_type": "code",
      "source": [
        "ner(\"Barack Obama was born in Hawaii on August 4, 1961 .\")"
      ],
      "metadata": {
        "colab": {
          "base_uri": "https://localhost:8080/"
        },
        "id": "_zfsgBGYHbo1",
        "outputId": "c04fc02b-0d97-4871-8d62-6418356571af"
      },
      "execution_count": 24,
      "outputs": [
        {
          "output_type": "stream",
          "name": "stdout",
          "text": [
            "\u001b[1m1/1\u001b[0m \u001b[32m━━━━━━━━━━━━━━━━━━━━\u001b[0m\u001b[37m\u001b[0m \u001b[1m0s\u001b[0m 50ms/step\n",
            "\u001b[1m1/1\u001b[0m \u001b[32m━━━━━━━━━━━━━━━━━━━━\u001b[0m\u001b[37m\u001b[0m \u001b[1m0s\u001b[0m 50ms/step\n",
            "Sentence : Barack Obama was born in Hawaii on August 4, 1961 .\n",
            "POS : ['NNP', 'NNP', 'VBD', 'VBN', 'IN', 'NNP', 'IN', 'NNP', 'NNP', 'CD', '.']\n",
            "NER : ['B-per', 'B-per', 'O', 'O', 'O', 'B-geo', 'O', 'B-tim', 'I-tim', 'I-tim', 'O']\n"
          ]
        }
      ]
    },
    {
      "cell_type": "code",
      "source": [
        "ner(\"John\")"
      ],
      "metadata": {
        "id": "gv9riVjegMww",
        "colab": {
          "base_uri": "https://localhost:8080/"
        },
        "outputId": "f8dbb6ef-87ef-439e-c926-a02e56b750a0"
      },
      "execution_count": 14,
      "outputs": [
        {
          "output_type": "stream",
          "name": "stdout",
          "text": [
            "\u001b[1m1/1\u001b[0m \u001b[32m━━━━━━━━━━━━━━━━━━━━\u001b[0m\u001b[37m\u001b[0m \u001b[1m0s\u001b[0m 56ms/step\n",
            "\u001b[1m1/1\u001b[0m \u001b[32m━━━━━━━━━━━━━━━━━━━━\u001b[0m\u001b[37m\u001b[0m \u001b[1m0s\u001b[0m 111ms/step\n",
            "Sentence : John\n",
            "POS : ['NNP']\n",
            "NER : ['B-per']\n"
          ]
        }
      ]
    },
    {
      "cell_type": "code",
      "source": [
        "ner(\"New York\")"
      ],
      "metadata": {
        "colab": {
          "base_uri": "https://localhost:8080/"
        },
        "id": "Ff6WyOJUHEn1",
        "outputId": "d1b29c3d-a649-4efb-b6cb-7fb522bc9c4d"
      },
      "execution_count": 16,
      "outputs": [
        {
          "output_type": "stream",
          "name": "stdout",
          "text": [
            "\u001b[1m1/1\u001b[0m \u001b[32m━━━━━━━━━━━━━━━━━━━━\u001b[0m\u001b[37m\u001b[0m \u001b[1m0s\u001b[0m 48ms/step\n",
            "\u001b[1m1/1\u001b[0m \u001b[32m━━━━━━━━━━━━━━━━━━━━\u001b[0m\u001b[37m\u001b[0m \u001b[1m0s\u001b[0m 85ms/step\n",
            "Sentence : New York\n",
            "POS : ['NNP', 'NNP']\n",
            "NER : ['B-geo', 'I-geo']\n"
          ]
        }
      ]
    },
    {
      "cell_type": "code",
      "source": [
        "ner(\"India\")"
      ],
      "metadata": {
        "colab": {
          "base_uri": "https://localhost:8080/"
        },
        "id": "SLCyIKRQHIM0",
        "outputId": "e1a7bac8-09b9-4204-8cf7-8a138040de6f"
      },
      "execution_count": 20,
      "outputs": [
        {
          "output_type": "stream",
          "name": "stdout",
          "text": [
            "\u001b[1m1/1\u001b[0m \u001b[32m━━━━━━━━━━━━━━━━━━━━\u001b[0m\u001b[37m\u001b[0m \u001b[1m0s\u001b[0m 48ms/step\n",
            "\u001b[1m1/1\u001b[0m \u001b[32m━━━━━━━━━━━━━━━━━━━━\u001b[0m\u001b[37m\u001b[0m \u001b[1m0s\u001b[0m 48ms/step\n",
            "Sentence : India\n",
            "POS : ['NNP']\n",
            "NER : ['B-geo']\n"
          ]
        }
      ]
    },
    {
      "cell_type": "code",
      "source": [
        "ner(\"Sleep\")"
      ],
      "metadata": {
        "colab": {
          "base_uri": "https://localhost:8080/"
        },
        "id": "EhFLJynpHZD1",
        "outputId": "fae6c66a-5341-4f66-f1c5-e51e7e29b466"
      },
      "execution_count": 22,
      "outputs": [
        {
          "output_type": "stream",
          "name": "stdout",
          "text": [
            "\u001b[1m1/1\u001b[0m \u001b[32m━━━━━━━━━━━━━━━━━━━━\u001b[0m\u001b[37m\u001b[0m \u001b[1m0s\u001b[0m 116ms/step\n",
            "\u001b[1m1/1\u001b[0m \u001b[32m━━━━━━━━━━━━━━━━━━━━\u001b[0m\u001b[37m\u001b[0m \u001b[1m0s\u001b[0m 81ms/step\n",
            "Sentence : Sleep\n",
            "POS : ['NNP']\n",
            "NER : ['O']\n"
          ]
        }
      ]
    },
    {
      "cell_type": "code",
      "source": [],
      "metadata": {
        "id": "J4RPP-VXIX8U"
      },
      "execution_count": null,
      "outputs": []
    }
  ]
}